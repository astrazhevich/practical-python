{
 "cells": [
  {
   "cell_type": "code",
   "execution_count": 1,
   "metadata": {},
   "outputs": [],
   "source": [
    "import urllib.request\n",
    "u = urllib.request.urlopen('http://ctabustracker.com/bustime/map/getStopPredictions.jsp?stop=14791&route=22')\n",
    "from xml.etree.ElementTree import parse\n",
    "doc = parse(u)\n",
    "for pt in doc.findall('.//pt'):\n",
    "    print(pt.text)"
   ]
  },
  {
   "cell_type": "code",
   "execution_count": 2,
   "metadata": {},
   "outputs": [
    {
     "data": {
      "text/plain": [
       "<xml.etree.ElementTree.ElementTree at 0x22d6cd67988>"
      ]
     },
     "execution_count": 2,
     "metadata": {},
     "output_type": "execute_result"
    }
   ],
   "source": [
    "doc"
   ]
  },
  {
   "cell_type": "code",
   "execution_count": 3,
   "metadata": {},
   "outputs": [
    {
     "name": "stdout",
     "output_type": "stream",
     "text": [
      "<xml.etree.ElementTree.ElementTree object at 0x0000022D6CD67988>\n"
     ]
    }
   ],
   "source": [
    "print(doc)"
   ]
  },
  {
   "cell_type": "code",
   "execution_count": 4,
   "metadata": {},
   "outputs": [
    {
     "name": "stdout",
     "output_type": "stream",
     "text": [
      "1 1 0.00011\n",
      "2 2 0.00022\n",
      "3 4 0.00044\n",
      "4 8 0.00088\n",
      "5 16 0.00176\n",
      "6 32 0.00352\n",
      "7 64 0.00704\n",
      "8 128 0.01408\n",
      "9 256 0.02816\n",
      "10 512 0.05632\n",
      "11 1024 0.11264\n",
      "12 2048 0.22528\n",
      "13 4096 0.45056\n",
      "14 8192 0.90112\n",
      "15 16384 1.80224\n",
      "16 32768 3.60448\n",
      "17 65536 7.20896\n",
      "18 131072 14.41792\n",
      "19 262144 28.83584\n",
      "20 524288 57.67168\n",
      "21 1048576 115.34336\n",
      "22 2097152 230.68672\n",
      "Number of days 23\n",
      "Number of bills 4194304\n",
      "Final height 461.37344\n"
     ]
    }
   ],
   "source": [
    "# sears.py\n",
    "bill_thickness = 0.11 * 0.001 # Meters (0.11 mm)\n",
    "sears_height = 442 # Height (meters)\n",
    "num_bills = 1\n",
    "day = 1\n",
    "\n",
    "while num_bills * bill_thickness < sears_height:\n",
    "    print(day, num_bills, num_bills * bill_thickness)\n",
    "    day = day + 1\n",
    "    num_bills = num_bills * 2\n",
    "\n",
    "print('Number of days', day)\n",
    "print('Number of bills', num_bills)\n",
    "print('Final height', num_bills * bill_thickness)"
   ]
  },
  {
   "cell_type": "code",
   "execution_count": null,
   "metadata": {},
   "outputs": [],
   "source": []
  }
 ],
 "metadata": {
  "kernelspec": {
   "display_name": "Python 3",
   "language": "python",
   "name": "python3"
  },
  "language_info": {
   "codemirror_mode": {
    "name": "ipython",
    "version": 3
   },
   "file_extension": ".py",
   "mimetype": "text/x-python",
   "name": "python",
   "nbconvert_exporter": "python",
   "pygments_lexer": "ipython3",
   "version": "3.7.6"
  }
 },
 "nbformat": 4,
 "nbformat_minor": 4
}
